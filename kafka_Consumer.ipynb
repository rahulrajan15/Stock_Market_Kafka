{
  "metadata": {
    "kernelspec": {
      "display_name": "Pyolite",
      "language": "python",
      "name": "python"
    },
    "language_info": {
      "codemirror_mode": {
        "name": "python",
        "version": 3
      },
      "file_extension": ".py",
      "mimetype": "text/x-python",
      "name": "python",
      "nbconvert_exporter": "python",
      "pygments_lexer": "ipython3",
      "version": "3.8"
    }
  },
  "nbformat_minor": 5,
  "nbformat": 4,
  "cells": [
    {
      "cell_type": "code",
      "source": "{\n \"cells\": [\n  {\n   \"cell_type\": \"code\",\n   \"execution_count\": null,\n   \"id\": \"e2d3f594\",\n   \"metadata\": {},\n   \"outputs\": [],\n   \"source\": [\n    \"pip install kafka-python\"\n   ]\n  },\n  {\n   \"cell_type\": \"code\",\n   \"execution_count\": null,\n   \"id\": \"f19405f0\",\n   \"metadata\": {},\n   \"outputs\": [],\n   \"source\": [\n    \"import pandas as pd\\n\",\n    \"from kafka import KafkaProducer\\n\",\n    \"from time import sleep\\n\",\n    \"from json import dumps\\n\",\n    \"import json\"\n   ]\n  },\n  {\n   \"cell_type\": \"code\",\n   \"execution_count\": null,\n   \"id\": \"b483a0e4\",\n   \"metadata\": {},\n   \"outputs\": [],\n   \"source\": [\n    \"producer = KafkaProducer(bootstrap_servers=['my aws IP here:9092'], #my aws IP here\",\n    \"                         value_serializer=lambda x: \\n\",\n    \"                         dumps(x).encode('utf-8'))\"\n   ]\n  },\n  {\n   \"cell_type\": \"code\",\n   \"execution_count\": null,\n   \"id\": \"0c30b915\",\n   \"metadata\": {},\n   \"outputs\": [],\n   \"source\": [\n    \"producer.send('demotest', value={'surnasdasdame':'parasdasdmar'})\"\n   ]\n  },\n  {\n   \"cell_type\": \"code\",\n   \"execution_count\": null,\n   \"id\": \"cc8d45aa\",\n   \"metadata\": {},\n   \"outputs\": [],\n   \"source\": [\n    \"df = pd.read_csv(\\\"data/indexProcessed.csv\\\")\"\n   ]\n  },\n  {\n   \"cell_type\": \"code\",\n   \"execution_count\": null,\n   \"id\": \"113a2516\",\n   \"metadata\": {},\n   \"outputs\": [],\n   \"source\": [\n    \"df.head()\"\n   ]\n  },\n  {\n   \"cell_type\": \"code\",\n   \"execution_count\": null,\n   \"id\": \"4c7ec0be\",\n   \"metadata\": {},\n   \"outputs\": [],\n   \"source\": [\n    \"while True:\\n\",\n    \"    dict_stock = df.sample(1).to_dict(orient=\\\"records\\\")[0]\\n\",\n    \"    producer.send('demotest', value=dict_stock)\\n\",\n    \"    sleep(1)\"\n   ]\n  },\n  {\n   \"cell_type\": \"code\",\n   \"execution_count\": null,\n   \"id\": \"ed61c0e5\",\n   \"metadata\": {},\n   \"outputs\": [],\n   \"source\": [\n    \"producer.flush() #clear data from kafka server\"\n   ]\n  },\n  {\n   \"cell_type\": \"code\",\n   \"execution_count\": null,\n   \"id\": \"5971d08f\",\n   \"metadata\": {},\n   \"outputs\": [],\n   \"source\": []\n  },\n  {\n   \"cell_type\": \"code\",\n   \"execution_count\": null,\n   \"id\": \"3632d61d\",\n   \"metadata\": {},\n   \"outputs\": [],\n   \"source\": []\n  }\n ],\n \"metadata\": {\n  \"kernelspec\": {\n   \"display_name\": \"Python 3 (ipykernel)\",\n   \"language\": \"python\",\n   \"name\": \"python3\"\n  },\n  \"language_info\": {\n   \"codemirror_mode\": {\n    \"name\": \"ipython\",\n    \"version\": 3\n   },\n   \"file_extension\": \".py\",\n   \"mimetype\": \"text/x-python\",\n   \"name\": \"python\",\n   \"nbconvert_exporter\": \"python\",\n   \"pygments_lexer\": \"ipython3\",\n   \"version\": \"3.10.0\"\n  }\n },\n \"nbformat\": 4,\n \"nbformat_minor\": 5\n}\n",
      "metadata": {},
      "execution_count": null,
      "outputs": [],
      "id": "c10e87f1-ce36-4a53-ac17-82bd06c13828"
    }
  ]
}